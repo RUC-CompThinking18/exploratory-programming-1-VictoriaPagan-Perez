{
 "cells": [
  {
   "cell_type": "code",
   "execution_count": 11,
   "metadata": {},
   "outputs": [
    {
     "data": {
      "text/plain": [
       "[15, 27, 39]"
      ]
     },
     "execution_count": 11,
     "metadata": {},
     "output_type": "execute_result"
    }
   ],
   "source": [
    "def triple(sequence): # defining the function that I am typing in as 'triple'. This means that I don't have to put in the entire function every time I waant to call. \n",
    "    result = [] \n",
    "    for element in sequence:      #I am letting python know what I want it to do to every element I have in the 'sequence' section of the function.\n",
    "        result = result + [element * 3]  #This is telling pyhton that I want the result of the computation to be the numberor numbers in 'element' to be multiplied by three.\n",
    "    return result  #I am then telling python that I want the result that is printed to be element multiplied by three.\n",
    "triple([5,9,13])   # I need to input my numbers in both parenthesis and brackets because parenthesis identify the elements while the brackets make the numbers recognizable to the program."
   ]
  },
  {
   "cell_type": "code",
   "execution_count": 13,
   "metadata": {},
   "outputs": [
    {
     "data": {
      "text/plain": [
       "[24, 12, 48]"
      ]
     },
     "execution_count": 13,
     "metadata": {},
     "output_type": "execute_result"
    }
   ],
   "source": [
    "\n",
    "triple([8,4,16])"
   ]
  },
  {
   "cell_type": "code",
   "execution_count": 12,
   "metadata": {},
   "outputs": [
    {
     "data": {
      "text/plain": [
       "[15, 24, 192]"
      ]
     },
     "execution_count": 12,
     "metadata": {},
     "output_type": "execute_result"
    }
   ],
   "source": [
    "triple ([5,8,64])"
   ]
  },
  {
   "cell_type": "code",
   "execution_count": 16,
   "metadata": {},
   "outputs": [
    {
     "data": {
      "text/plain": [
       "[36, 72, 6]"
      ]
     },
     "execution_count": 16,
     "metadata": {},
     "output_type": "execute_result"
    }
   ],
   "source": [
    "x= ([12,24,2])\n",
    "triple(x)"
   ]
  },
  {
   "cell_type": "code",
   "execution_count": 15,
   "metadata": {},
   "outputs": [
    {
     "data": {
      "text/plain": [
       "[255, 6, 225]"
      ]
     },
     "execution_count": 15,
     "metadata": {},
     "output_type": "execute_result"
    }
   ],
   "source": [
    "y= ([85,2,75])\n",
    "triple(y)"
   ]
  },
  {
   "cell_type": "code",
   "execution_count": 19,
   "metadata": {},
   "outputs": [
    {
     "name": "stdout",
     "output_type": "stream",
     "text": [
      "[54, 9, 7]\n"
     ]
    }
   ],
   "source": [
    "z= ([54,9,7])  # I just assigned the numbers ,'54,9, and 7' to the variable 'z'\n",
    "triple(z)  #I just told python to triple all of the numbers in the variable 'z'\n",
    "print(z)   #I now told it to print those variables"
   ]
  },
  {
   "cell_type": "code",
   "execution_count": 20,
   "metadata": {},
   "outputs": [
    {
     "name": "stdout",
     "output_type": "stream",
     "text": [
      "[15, 6, 9]\n"
     ]
    }
   ],
   "source": [
    "z= triple([5,2,3])\n",
    "print z"
   ]
  },
  {
   "cell_type": "code",
   "execution_count": 24,
   "metadata": {},
   "outputs": [
    {
     "name": "stdout",
     "output_type": "stream",
     "text": [
      "[15, 6, 9]\n"
     ]
    }
   ],
   "source": [
    "z= triple([5,2,3])\n",
    "print repr(z)\n"
   ]
  },
  {
   "cell_type": "code",
   "execution_count": null,
   "metadata": {},
   "outputs": [],
   "source": []
  }
 ],
 "metadata": {
  "kernelspec": {
   "display_name": "Python 2",
   "language": "python",
   "name": "python2"
  },
  "language_info": {
   "codemirror_mode": {
    "name": "ipython",
    "version": 2
   },
   "file_extension": ".py",
   "mimetype": "text/x-python",
   "name": "python",
   "nbconvert_exporter": "python",
   "pygments_lexer": "ipython2",
   "version": "2.7.15"
  }
 },
 "nbformat": 4,
 "nbformat_minor": 2
}
